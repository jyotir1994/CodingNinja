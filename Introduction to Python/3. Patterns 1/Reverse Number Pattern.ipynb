{
 "cells": [
  {
   "cell_type": "markdown",
   "id": "363a89d5",
   "metadata": {},
   "source": [
    "Pattern for N = 4\n",
    "1\n",
    "21\n",
    "321\n",
    "4321"
   ]
  },
  {
   "cell_type": "code",
   "execution_count": 1,
   "id": "609c82b3",
   "metadata": {},
   "outputs": [
    {
     "name": "stdout",
     "output_type": "stream",
     "text": [
      "4\n",
      "1\n",
      "21\n",
      "321\n",
      "4321\n"
     ]
    }
   ],
   "source": [
    "n = int(input())\n",
    "i = 1\n",
    "while i <= n:\n",
    "    j = 1\n",
    "    p = i\n",
    "    while j <= i:\n",
    "        print(p, end=\"\")\n",
    "        j = j + 1\n",
    "        p = p - 1\n",
    "    print()\n",
    "    i = i + 1"
   ]
  }
 ],
 "metadata": {
  "kernelspec": {
   "display_name": "Python 3 (ipykernel)",
   "language": "python",
   "name": "python3"
  },
  "language_info": {
   "codemirror_mode": {
    "name": "ipython",
    "version": 3
   },
   "file_extension": ".py",
   "mimetype": "text/x-python",
   "name": "python",
   "nbconvert_exporter": "python",
   "pygments_lexer": "ipython3",
   "version": "3.10.4"
  }
 },
 "nbformat": 4,
 "nbformat_minor": 5
}
