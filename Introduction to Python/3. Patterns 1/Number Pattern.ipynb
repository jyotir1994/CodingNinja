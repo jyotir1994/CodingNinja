{
 "cells": [
  {
   "cell_type": "code",
   "execution_count": 1,
   "id": "9740739f",
   "metadata": {},
   "outputs": [
    {
     "name": "stdout",
     "output_type": "stream",
     "text": [
      "4\n",
      "1234\n",
      "123\n",
      "12\n",
      "1\n"
     ]
    }
   ],
   "source": [
    "n=int(input())\n",
    "i=0\n",
    "while(i<n):\n",
    "    j=1\n",
    "    while ( j < n-i+1):\n",
    "        print(j,end='')\n",
    "        j=j+1\n",
    "    i=i+1\n",
    "    print()"
   ]
  }
 ],
 "metadata": {
  "kernelspec": {
   "display_name": "Python 3 (ipykernel)",
   "language": "python",
   "name": "python3"
  },
  "language_info": {
   "codemirror_mode": {
    "name": "ipython",
    "version": 3
   },
   "file_extension": ".py",
   "mimetype": "text/x-python",
   "name": "python",
   "nbconvert_exporter": "python",
   "pygments_lexer": "ipython3",
   "version": "3.10.4"
  }
 },
 "nbformat": 4,
 "nbformat_minor": 5
}
