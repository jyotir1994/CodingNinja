{
 "cells": [
  {
   "cell_type": "code",
   "execution_count": 1,
   "id": "52354cbe",
   "metadata": {},
   "outputs": [
    {
     "name": "stdout",
     "output_type": "stream",
     "text": [
      "6\n",
      "123456\n",
      " 23456\n",
      "  3456\n",
      "   456\n",
      "    56\n",
      "     6\n",
      "    56\n",
      "   456\n",
      "  3456\n",
      " 23456\n",
      "123456\n"
     ]
    }
   ],
   "source": [
    "n = int(input())\n",
    "for i in range(1,n+1):\n",
    "    count = 1\n",
    "    for j in range(1,i):\n",
    "        print(\" \",end=\"\")\n",
    "        count = count + 1\n",
    "    num = i \n",
    "    for j in range(count,n+1):\n",
    "        print(num,end=\"\") \n",
    "        num = num + 1\n",
    "    print()\n",
    "for i in range(n-1,0,-1):\n",
    "    count = 1\n",
    "    for j in range(1,i):\n",
    "        print(\" \",end=\"\") \n",
    "        count = count + 1\n",
    "    num = i \n",
    "    for j in range(count,n+1): \n",
    "        print(num,end=\"\")\n",
    "        num = num + 1 \n",
    "    print()"
   ]
  }
 ],
 "metadata": {
  "kernelspec": {
   "display_name": "Python 3 (ipykernel)",
   "language": "python",
   "name": "python3"
  },
  "language_info": {
   "codemirror_mode": {
    "name": "ipython",
    "version": 3
   },
   "file_extension": ".py",
   "mimetype": "text/x-python",
   "name": "python",
   "nbconvert_exporter": "python",
   "pygments_lexer": "ipython3",
   "version": "3.10.4"
  }
 },
 "nbformat": 4,
 "nbformat_minor": 5
}
