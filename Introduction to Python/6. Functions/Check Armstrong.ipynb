{
 "cells": [
  {
   "cell_type": "markdown",
   "id": "4d02fa29",
   "metadata": {},
   "source": [
    "An Armstrong number is a number (with digits n) such that the sum of its digits raised to nth power is equal to the number itself."
   ]
  },
  {
   "cell_type": "code",
   "execution_count": 1,
   "id": "ad5f4229",
   "metadata": {},
   "outputs": [
    {
     "name": "stdout",
     "output_type": "stream",
     "text": [
      "103\n",
      "false\n"
     ]
    }
   ],
   "source": [
    "num=input()\n",
    "n=[int(i) for i in num]\n",
    "count=0\n",
    "for j in range(len(n)):\n",
    "    count=count+n[j]**len(n)\n",
    "if count==int(num):\n",
    "    print(\"true\")\n",
    "else:print(\"false\")"
   ]
  }
 ],
 "metadata": {
  "kernelspec": {
   "display_name": "Python 3 (ipykernel)",
   "language": "python",
   "name": "python3"
  },
  "language_info": {
   "codemirror_mode": {
    "name": "ipython",
    "version": 3
   },
   "file_extension": ".py",
   "mimetype": "text/x-python",
   "name": "python",
   "nbconvert_exporter": "python",
   "pygments_lexer": "ipython3",
   "version": "3.10.4"
  }
 },
 "nbformat": 4,
 "nbformat_minor": 5
}
