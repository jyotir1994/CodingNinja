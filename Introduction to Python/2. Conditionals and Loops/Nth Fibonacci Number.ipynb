{
 "cells": [
  {
   "cell_type": "markdown",
   "id": "452750d3",
   "metadata": {},
   "source": [
    "Nth term of Fibonacci series F(n), where F(n) is a function, is calculated using the following formula -\n",
    "    F(n) = F(n-1) + F(n-2), \n",
    "    Where, F(1) = F(2) = 1"
   ]
  },
  {
   "cell_type": "code",
   "execution_count": 1,
   "id": "a6c28b37",
   "metadata": {},
   "outputs": [
    {
     "name": "stdout",
     "output_type": "stream",
     "text": [
      "6\n",
      "8\n"
     ]
    }
   ],
   "source": [
    "def fibonacciSeries(x):   \n",
    "    m = 0  \n",
    "    n = 1  \n",
    "    # using the if-elif-else conditional statements  \n",
    "    if x < 0:  \n",
    "        print(\"Wrong input\")   \n",
    "    elif x == 0:  \n",
    "        return m   \n",
    "    elif x == 1:   \n",
    "        return n  \n",
    "    else:  \n",
    "        # using the for-loop   \n",
    "        for i in range(2, x + 1):   \n",
    "            o = m + n  \n",
    "            m = n   \n",
    "            n = o   \n",
    "        return n \n",
    "\n",
    "n = int(input())\n",
    "print(fibonacciSeries(n))"
   ]
  }
 ],
 "metadata": {
  "kernelspec": {
   "display_name": "Python 3 (ipykernel)",
   "language": "python",
   "name": "python3"
  },
  "language_info": {
   "codemirror_mode": {
    "name": "ipython",
    "version": 3
   },
   "file_extension": ".py",
   "mimetype": "text/x-python",
   "name": "python",
   "nbconvert_exporter": "python",
   "pygments_lexer": "ipython3",
   "version": "3.10.4"
  }
 },
 "nbformat": 4,
 "nbformat_minor": 5
}
