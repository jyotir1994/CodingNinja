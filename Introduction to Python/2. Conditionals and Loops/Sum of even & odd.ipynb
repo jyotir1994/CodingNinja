{
 "cells": [
  {
   "cell_type": "markdown",
   "id": "531ebbdf",
   "metadata": {},
   "source": [
    "Write a program to input an integer N and print the sum of all its even digits and sum of all its odd digits separately.\n",
    "Digits mean numbers, not the places! That is, if the given integer is \"13245\", even digits are 2 & 4 and odd digits are 1, 3 & 5."
   ]
  },
  {
   "cell_type": "code",
   "execution_count": 1,
   "id": "86c9cb05",
   "metadata": {},
   "outputs": [
    {
     "name": "stdout",
     "output_type": "stream",
     "text": [
      "1234\n",
      "6   4\n"
     ]
    }
   ],
   "source": [
    "n = int(input())\n",
    "d= 0\n",
    "ev=0\n",
    "odd=0\n",
    "while(n>0):\n",
    "    d=n%10\n",
    "    n=n//10\n",
    "    if d%2!=0:\n",
    "        odd=odd+d\n",
    "    else:\n",
    "        ev=ev+d\n",
    "print(ev,\" \",odd)"
   ]
  }
 ],
 "metadata": {
  "kernelspec": {
   "display_name": "Python 3 (ipykernel)",
   "language": "python",
   "name": "python3"
  },
  "language_info": {
   "codemirror_mode": {
    "name": "ipython",
    "version": 3
   },
   "file_extension": ".py",
   "mimetype": "text/x-python",
   "name": "python",
   "nbconvert_exporter": "python",
   "pygments_lexer": "ipython3",
   "version": "3.10.4"
  }
 },
 "nbformat": 4,
 "nbformat_minor": 5
}
