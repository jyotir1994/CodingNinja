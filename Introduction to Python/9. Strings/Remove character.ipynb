{
 "cells": [
  {
   "cell_type": "code",
   "execution_count": null,
   "id": "5488d56d",
   "metadata": {},
   "outputs": [],
   "source": [
    "from sys import stdin\n",
    "\n",
    "\n",
    "def removeAllOccurrencesOfChar(string, ch) :\n",
    "\t# Your code goes here\n",
    "    return string.replace(ch, '')\n",
    "\n",
    "#main\n",
    "string = stdin.readline().strip()\n",
    "ch = stdin.readline().strip()[0]\n",
    "\n",
    "ans = removeAllOccurrencesOfChar(string, ch)\n",
    "\n",
    "print(ans)"
   ]
  }
 ],
 "metadata": {
  "kernelspec": {
   "display_name": "Python 3 (ipykernel)",
   "language": "python",
   "name": "python3"
  },
  "language_info": {
   "codemirror_mode": {
    "name": "ipython",
    "version": 3
   },
   "file_extension": ".py",
   "mimetype": "text/x-python",
   "name": "python",
   "nbconvert_exporter": "python",
   "pygments_lexer": "ipython3",
   "version": "3.10.5"
  }
 },
 "nbformat": 4,
 "nbformat_minor": 5
}
