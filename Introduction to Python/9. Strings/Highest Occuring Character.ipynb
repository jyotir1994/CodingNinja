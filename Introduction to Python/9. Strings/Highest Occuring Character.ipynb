{
 "cells": [
  {
   "cell_type": "code",
   "execution_count": null,
   "id": "838956ed",
   "metadata": {},
   "outputs": [],
   "source": [
    "from sys import stdin\n",
    "\n",
    "\n",
    "def highestOccuringChar(string) :\n",
    "\t#Your code goes here\n",
    "    ASCII_SIZE = 256\n",
    "    ctr = [0] * ASCII_SIZE\n",
    "    max = -1\n",
    "    ch = ''\n",
    "    for i in string:\n",
    "        ctr[ord(i)]+=1\n",
    "    for i in string:\n",
    "        if max < ctr[ord(i)]:\n",
    "            max = ctr[ord(i)]\n",
    "            ch = i\n",
    "    return ch\n",
    "\n",
    "\n",
    "\n",
    "#main\n",
    "string = stdin.readline().strip();\n",
    "ans = highestOccuringChar(string)\n",
    "\n",
    "print(ans)"
   ]
  }
 ],
 "metadata": {
  "kernelspec": {
   "display_name": "Python 3 (ipykernel)",
   "language": "python",
   "name": "python3"
  },
  "language_info": {
   "codemirror_mode": {
    "name": "ipython",
    "version": 3
   },
   "file_extension": ".py",
   "mimetype": "text/x-python",
   "name": "python",
   "nbconvert_exporter": "python",
   "pygments_lexer": "ipython3",
   "version": "3.10.5"
  }
 },
 "nbformat": 4,
 "nbformat_minor": 5
}
