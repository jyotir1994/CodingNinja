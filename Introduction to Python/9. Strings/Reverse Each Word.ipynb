{
 "cells": [
  {
   "cell_type": "code",
   "execution_count": null,
   "id": "7ae3bd48",
   "metadata": {},
   "outputs": [],
   "source": [
    "\n",
    "from sys import stdin\n",
    "\n",
    "\n",
    "def reverseEachWord(string) :\n",
    "\t# Your code goes here\n",
    "    w = string.split(\" \")\n",
    "    nw= [i[::-1] for i in w]\n",
    "    ns = \" \".join(nw)\n",
    "    return ns\n",
    "\n",
    "#main\n",
    "string = stdin.readline().strip()\n",
    "\n",
    "ans = reverseEachWord(string)\n",
    "\n",
    "print(ans)"
   ]
  }
 ],
 "metadata": {
  "kernelspec": {
   "display_name": "Python 3 (ipykernel)",
   "language": "python",
   "name": "python3"
  },
  "language_info": {
   "codemirror_mode": {
    "name": "ipython",
    "version": 3
   },
   "file_extension": ".py",
   "mimetype": "text/x-python",
   "name": "python",
   "nbconvert_exporter": "python",
   "pygments_lexer": "ipython3",
   "version": "3.10.5"
  }
 },
 "nbformat": 4,
 "nbformat_minor": 5
}
