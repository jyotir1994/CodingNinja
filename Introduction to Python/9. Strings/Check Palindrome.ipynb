{
 "cells": [
  {
   "cell_type": "code",
   "execution_count": 3,
   "id": "31e2281f",
   "metadata": {},
   "outputs": [
    {
     "name": "stdout",
     "output_type": "stream",
     "text": [
      "sdfds\n",
      "true\n"
     ]
    }
   ],
   "source": [
    "def isPalindrome(string) :\n",
    "    p=string[::-1]\n",
    "    if(string==p):\n",
    "        return True\n",
    "    else:\n",
    "        return False\n",
    "\n",
    "#main\n",
    "string = input()\n",
    "ans = isPalindrome(string)\n",
    "\n",
    "if ans :\n",
    "    print('true')\n",
    "else :\n",
    "    print('false')\n"
   ]
  }
 ],
 "metadata": {
  "kernelspec": {
   "display_name": "Python 3 (ipykernel)",
   "language": "python",
   "name": "python3"
  },
  "language_info": {
   "codemirror_mode": {
    "name": "ipython",
    "version": 3
   },
   "file_extension": ".py",
   "mimetype": "text/x-python",
   "name": "python",
   "nbconvert_exporter": "python",
   "pygments_lexer": "ipython3",
   "version": "3.10.5"
  }
 },
 "nbformat": 4,
 "nbformat_minor": 5
}
