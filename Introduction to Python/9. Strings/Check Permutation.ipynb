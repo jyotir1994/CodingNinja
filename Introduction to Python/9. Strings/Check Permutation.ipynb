{
 "cells": [
  {
   "cell_type": "code",
   "execution_count": null,
   "id": "97e53b6e",
   "metadata": {},
   "outputs": [],
   "source": [
    "\n",
    "from sys import stdin\n",
    "\n",
    "\n",
    "def isPermutation(string1, string2) :\n",
    "\t#Your code goes here\n",
    "    n1 = len(string1) \n",
    "    n2 = len(string2)\n",
    "    if (n1 != n2):\n",
    "        return False\n",
    "  \n",
    "    # Sort both strings \n",
    "    a = sorted(string1) \n",
    "    string1 = \"\".join(a) \n",
    "    b = sorted(string2) \n",
    "    string2 = \"\".join(b) \n",
    "  \n",
    "    # Compare sorted strings \n",
    "    for i in range(0, n1, 1): \n",
    "        if (string1[i] != string2[i]): \n",
    "            return False\n",
    "  \n",
    "    return True\n",
    "\n",
    "\n",
    "\n",
    "\t\n",
    "\n",
    "\n",
    "#main\n",
    "string1 = stdin.readline().strip();\n",
    "string2 = stdin.readline().strip();\n",
    "\n",
    "ans = isPermutation(string1, string2)\n",
    "\n",
    "if ans :\n",
    "    print('true')\n",
    "else :\n",
    "    print('false')\n",
    "\n"
   ]
  }
 ],
 "metadata": {
  "kernelspec": {
   "display_name": "Python 3 (ipykernel)",
   "language": "python",
   "name": "python3"
  },
  "language_info": {
   "codemirror_mode": {
    "name": "ipython",
    "version": 3
   },
   "file_extension": ".py",
   "mimetype": "text/x-python",
   "name": "python",
   "nbconvert_exporter": "python",
   "pygments_lexer": "ipython3",
   "version": "3.10.5"
  }
 },
 "nbformat": 4,
 "nbformat_minor": 5
}
