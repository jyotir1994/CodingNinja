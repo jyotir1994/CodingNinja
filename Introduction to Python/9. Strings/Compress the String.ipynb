{
 "cells": [
  {
   "cell_type": "code",
   "execution_count": null,
   "id": "9ff61670",
   "metadata": {},
   "outputs": [],
   "source": [
    "from sys import stdin\n",
    "def getCompressedString(input) :\n",
    "\t# Write your code here.\n",
    "    i=0\n",
    "    x=''\n",
    "    while(i<len(input)):\n",
    "        j=i+1\n",
    "        c=1\n",
    "        while j<len(input) and (input[i]==input[j]):\n",
    "            j+=1\n",
    "            c+=1\n",
    "        if c==1:\n",
    "            x+=input[i]\n",
    "        else:\n",
    "            x+=input[i]+str(c)\n",
    "        i=j\n",
    "    return x\n",
    "\n",
    "# Main.\n",
    "string = stdin.readline().strip();\n",
    "ans = getCompressedString(string)\n",
    "print(ans)"
   ]
  }
 ],
 "metadata": {
  "kernelspec": {
   "display_name": "Python 3 (ipykernel)",
   "language": "python",
   "name": "python3"
  },
  "language_info": {
   "codemirror_mode": {
    "name": "ipython",
    "version": 3
   },
   "file_extension": ".py",
   "mimetype": "text/x-python",
   "name": "python",
   "nbconvert_exporter": "python",
   "pygments_lexer": "ipython3",
   "version": "3.10.5"
  }
 },
 "nbformat": 4,
 "nbformat_minor": 5
}
