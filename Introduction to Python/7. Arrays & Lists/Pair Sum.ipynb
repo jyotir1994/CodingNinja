{
 "cells": [
  {
   "cell_type": "markdown",
   "id": "3500f9c0",
   "metadata": {},
   "source": [
    "You have been given an integer array/list(ARR) and a number X. Find and return the total number of pairs in the array/list which sum to X.\n",
    "Note:\n",
    "Given array/list can contain duplicate elements. "
   ]
  },
  {
   "cell_type": "code",
   "execution_count": null,
   "id": "984f7cf4",
   "metadata": {},
   "outputs": [],
   "source": [
    "\n",
    "from sys import stdin\n",
    "\n",
    "\n",
    "def pairSum(arr, n, x) :\n",
    "    #Your code goes here\n",
    "    numPairs = 0\n",
    "    for i in range(n) :\n",
    "        for j in range((i+1), n) :\n",
    "            if arr[i] + arr[j] == x :\n",
    "                numPairs += 1\n",
    "    return numPairs \n",
    "\n",
    "#Taking Input Using Fast I/O\n",
    "def takeInput() :\n",
    "    n = int(stdin.readline().strip())\n",
    "    if n == 0 :\n",
    "        return list(), 0\n",
    "\n",
    "    arr = list(map(int, stdin.readline().strip().split(\" \")))\n",
    "    return arr, n\n",
    "\n",
    "\n",
    "#main\n",
    "t = int(stdin.readline().strip())\n",
    "\n",
    "while t > 0 :\n",
    "    \n",
    "    arr, n = takeInput()\n",
    "    x = int(stdin.readline().strip())\n",
    "    print(pairSum(arr, n, x))\n",
    "\n",
    "    t -= 1"
   ]
  }
 ],
 "metadata": {
  "kernelspec": {
   "display_name": "Python 3 (ipykernel)",
   "language": "python",
   "name": "python3"
  },
  "language_info": {
   "codemirror_mode": {
    "name": "ipython",
    "version": 3
   },
   "file_extension": ".py",
   "mimetype": "text/x-python",
   "name": "python",
   "nbconvert_exporter": "python",
   "pygments_lexer": "ipython3",
   "version": "3.10.5"
  }
 },
 "nbformat": 4,
 "nbformat_minor": 5
}
