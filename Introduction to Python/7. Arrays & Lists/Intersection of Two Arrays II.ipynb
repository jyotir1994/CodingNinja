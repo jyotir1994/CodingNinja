{
 "cells": [
  {
   "cell_type": "markdown",
   "id": "ee945350",
   "metadata": {},
   "source": [
    "You have been given two integer arrays/list(ARR1 and ARR2) of size N and M, respectively. You need to print their intersection; An intersection for this problem can be defined when both the arrays/lists contain a particular value or to put it in other words, when there is a common value that exists in both the arrays/lists.\n",
    "Note :\n",
    "Input arrays/lists can contain duplicate elements.\n",
    "\n",
    "The intersection elements printed would be in the order they appear in the first array/list(ARR1)"
   ]
  },
  {
   "cell_type": "code",
   "execution_count": null,
   "id": "5fdf6fb5",
   "metadata": {},
   "outputs": [],
   "source": [
    "\n",
    "import sys\n",
    "\n",
    "def intersections(arr1, n, arr2, m) :\n",
    "    #Your code goes here\n",
    "    for i in range(n) :\n",
    "        for j in range(m) :\n",
    "            if arr1[i] == arr2[j] :\n",
    "                print(arr1[i], end = \" \") \n",
    "                arr2[j] = sys.maxsize \n",
    "                break \n",
    "\n",
    "#Taking Input Using Fast I/O\n",
    "def takeInput() :\n",
    "    n = int(sys.stdin.readline().strip())\n",
    "    if n == 0:\n",
    "        return list(), 0\n",
    "\n",
    "    arr = list(map(int, sys.stdin.readline().strip().split(\" \")))\n",
    "    return arr, n\n",
    "\n",
    "\n",
    "#main\n",
    "t = int(sys.stdin.readline().strip())\n",
    "\n",
    "while t > 0 :\n",
    "    arr1, n = takeInput()\n",
    "    arr2, m = takeInput()\n",
    "\n",
    "    intersections(arr1, n, arr2, m)\n",
    "    print()\n",
    "\n",
    "    t -= 1"
   ]
  }
 ],
 "metadata": {
  "kernelspec": {
   "display_name": "Python 3 (ipykernel)",
   "language": "python",
   "name": "python3"
  },
  "language_info": {
   "codemirror_mode": {
    "name": "ipython",
    "version": 3
   },
   "file_extension": ".py",
   "mimetype": "text/x-python",
   "name": "python",
   "nbconvert_exporter": "python",
   "pygments_lexer": "ipython3",
   "version": "3.10.5"
  }
 },
 "nbformat": 4,
 "nbformat_minor": 5
}
