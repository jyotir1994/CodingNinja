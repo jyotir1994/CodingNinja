{
 "cells": [
  {
   "cell_type": "code",
   "execution_count": 1,
   "id": "3cdb544e",
   "metadata": {},
   "outputs": [
    {
     "name": "stdout",
     "output_type": "stream",
     "text": [
      "4\n",
      "   1\n",
      "  212\n",
      " 32123\n",
      "4321234\n"
     ]
    }
   ],
   "source": [
    "n = int(input())\n",
    "i = 1\n",
    "while i <= n:\n",
    "    spaces = 1\n",
    "    # spaces\n",
    "    while spaces <= n - i:\n",
    "        print(' ', end='')\n",
    "        spaces = spaces + 1\n",
    "    p = i\n",
    "    j = 1\n",
    "    # increasing seq\n",
    "    while j <= i:\n",
    "        print(p, end='')\n",
    "        j = j + 1\n",
    "        p = p - 1\n",
    "    # decreasing seq\n",
    "    p = p + 2\n",
    "    j = 1\n",
    "    while j <= i - 1:\n",
    "        print(p, end='')\n",
    "        p = p +1\n",
    "        j = j + 1\n",
    "    print()\n",
    "    i = i + 1"
   ]
  }
 ],
 "metadata": {
  "kernelspec": {
   "display_name": "Python 3 (ipykernel)",
   "language": "python",
   "name": "python3"
  },
  "language_info": {
   "codemirror_mode": {
    "name": "ipython",
    "version": 3
   },
   "file_extension": ".py",
   "mimetype": "text/x-python",
   "name": "python",
   "nbconvert_exporter": "python",
   "pygments_lexer": "ipython3",
   "version": "3.10.4"
  }
 },
 "nbformat": 4,
 "nbformat_minor": 5
}
