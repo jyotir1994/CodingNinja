{
 "cells": [
  {
   "cell_type": "code",
   "execution_count": 1,
   "id": "6d38d2c7",
   "metadata": {},
   "outputs": [
    {
     "name": "stdout",
     "output_type": "stream",
     "text": [
      "5\n",
      "1        1\n",
      "12      21\n",
      "123    321\n",
      "1234  4321\n",
      "1234554321\n"
     ]
    }
   ],
   "source": [
    "a=int(input())\n",
    "i = 1\n",
    "n=2*a\n",
    "while i <= a:\n",
    "    p = 1\n",
    "    j = 1\n",
    "    # increasing seq\n",
    "    while j <= i:\n",
    "        print(p, end='')\n",
    "        j = j + 1\n",
    "        p = p + 1\n",
    "    spaces = 1\n",
    "    while spaces <= n - 2*i:\n",
    "        print(' ', end='')\n",
    "        spaces = spaces + 1\n",
    "    j = 1\n",
    "    p = p -1\n",
    "    while j <= i:\n",
    "        print(p, end='')\n",
    "        j = j + 1\n",
    "        p = p - 1\n",
    "    print()\n",
    "    i = i +1"
   ]
  }
 ],
 "metadata": {
  "kernelspec": {
   "display_name": "Python 3 (ipykernel)",
   "language": "python",
   "name": "python3"
  },
  "language_info": {
   "codemirror_mode": {
    "name": "ipython",
    "version": 3
   },
   "file_extension": ".py",
   "mimetype": "text/x-python",
   "name": "python",
   "nbconvert_exporter": "python",
   "pygments_lexer": "ipython3",
   "version": "3.10.4"
  }
 },
 "nbformat": 4,
 "nbformat_minor": 5
}
