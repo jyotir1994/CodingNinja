{
 "cells": [
  {
   "cell_type": "code",
   "execution_count": 1,
   "id": "619d5ec0",
   "metadata": {},
   "outputs": [
    {
     "name": "stdout",
     "output_type": "stream",
     "text": [
      "7\n",
      "* \n",
      " * * \n",
      "  * * * \n",
      "   * * * * \n",
      "  * * * \n",
      " * * \n",
      "* \n"
     ]
    }
   ],
   "source": [
    "n = int(input())\n",
    "n1 = (n+1)//2\n",
    "n2 = n//2\n",
    "i = 1\n",
    "while i <= n1:\n",
    "    spaces = 1\n",
    "    while spaces <= i - 1:\n",
    "        print(' ', end='')\n",
    "        spaces = spaces + 1\n",
    "    j = 1\n",
    "    # increasing seq\n",
    "    while j <= i:\n",
    "        print(\"*\", end='')\n",
    "        print(' ', end='')\n",
    "        j = j + 1\n",
    "    print()\n",
    "    i = i + 1\n",
    "\n",
    "i = 1\n",
    "while i <= n2: \n",
    "    spaces = 1\n",
    "    while spaces <= n2 - i:\n",
    "        print(' ', end='')\n",
    "        spaces = spaces + 1\n",
    "    j = 1\n",
    "    # increasing seq\n",
    "    while j <= n2 - i +1:\n",
    "        print(\"*\", end='')\n",
    "        print(' ', end='')\n",
    "        j = j + 1\n",
    "    print()\n",
    "    i = i + 1"
   ]
  }
 ],
 "metadata": {
  "kernelspec": {
   "display_name": "Python 3 (ipykernel)",
   "language": "python",
   "name": "python3"
  },
  "language_info": {
   "codemirror_mode": {
    "name": "ipython",
    "version": 3
   },
   "file_extension": ".py",
   "mimetype": "text/x-python",
   "name": "python",
   "nbconvert_exporter": "python",
   "pygments_lexer": "ipython3",
   "version": "3.10.4"
  }
 },
 "nbformat": 4,
 "nbformat_minor": 5
}
