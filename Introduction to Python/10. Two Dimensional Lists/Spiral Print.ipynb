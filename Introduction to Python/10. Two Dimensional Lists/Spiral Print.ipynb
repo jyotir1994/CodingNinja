{
 "cells": [
  {
   "cell_type": "code",
   "execution_count": null,
   "id": "9d84dabc",
   "metadata": {},
   "outputs": [],
   "source": [
    "from sys import stdin\n",
    "\n",
    "def spiralPrint(arr, rows, cols):\n",
    "    #Your code goes here\n",
    "    startRow, startCol, endRow, endCol = 0, 0, rows-1, cols-1\n",
    "    while startRow<=endRow and startCol<=endCol:\n",
    "        # Print startRow \n",
    "        for j in range(startCol, endCol+1): \n",
    "            print(arr[startRow][j], end=' ')\n",
    "        startRow += 1\n",
    "        if startRow>endRow or startCol>endCol: \n",
    "            break \n",
    "        # Print endCol \n",
    "        for i in range(startRow, endRow+1): \n",
    "            print(arr[i][endCol], end=' ') \n",
    "        endCol -= 1 \n",
    "        if startRow>endRow or startCol>endCol: \n",
    "            break \n",
    "        for j in range(endCol, startCol-1, -1):\n",
    "            print(arr[endRow][j], end=' ')\n",
    "        endRow -= 1 \n",
    "        if startRow>endRow or startCol>endCol:\n",
    "            break \n",
    "        # Print startCol \n",
    "        for i in range(endRow, startRow-1, -1): \n",
    "            print(arr[i][startCol], end=' ') \n",
    "        startCol += 1 \n",
    "\n",
    "\n",
    "#Taking Input Using Fast I/O\n",
    "def take2DInput() :\n",
    "    li = stdin.readline().rstrip().split(\" \")\n",
    "    nRows = int(li[0])\n",
    "    mCols = int(li[1])\n",
    "    \n",
    "    if nRows == 0 :\n",
    "        return list(), 0, 0\n",
    "    \n",
    "    mat = [list(map(int, input().strip().split(\" \"))) for row in range(nRows)]\n",
    "    return mat, nRows, mCols\n",
    "\n",
    "\n",
    "#main\n",
    "t = int(stdin.readline().rstrip())\n",
    "\n",
    "while t > 0 :\n",
    "\n",
    "    mat, nRows, mCols = take2DInput()\n",
    "    spiralPrint(mat, nRows, mCols)\n",
    "    print()\n",
    "\n",
    "    t -= 1"
   ]
  }
 ],
 "metadata": {
  "kernelspec": {
   "display_name": "Python 3 (ipykernel)",
   "language": "python",
   "name": "python3"
  },
  "language_info": {
   "codemirror_mode": {
    "name": "ipython",
    "version": 3
   },
   "file_extension": ".py",
   "mimetype": "text/x-python",
   "name": "python",
   "nbconvert_exporter": "python",
   "pygments_lexer": "ipython3",
   "version": "3.10.5"
  }
 },
 "nbformat": 4,
 "nbformat_minor": 5
}
