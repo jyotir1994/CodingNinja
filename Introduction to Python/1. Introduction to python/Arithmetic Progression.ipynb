{
 "cells": [
  {
   "cell_type": "markdown",
   "id": "9773bae4",
   "metadata": {},
   "source": [
    "You are given first three entries of an arithmetic progression. You have to calculate the common difference and print it.\n",
    "Input format:\n",
    "The first line of input contains an integer a (1 <= a <= 100)\n",
    "The second line of input contains an integer b (1 <= b <= 100) \n",
    "The third line of input contains an integer c (1 <= c <= 100) \n",
    "Constraints:\n",
    "Time Limit: 1 second\n",
    "Output format:\n",
    "The first and only line of output contains the result.  \n",
    "Sample Input:\n",
    "1\n",
    "3\n",
    "5\n",
    "Sample Output:\n",
    "2\n",
    "\n"
   ]
  },
  {
   "cell_type": "code",
   "execution_count": 1,
   "id": "96c06164",
   "metadata": {},
   "outputs": [
    {
     "name": "stdout",
     "output_type": "stream",
     "text": [
      "1\n",
      "3\n",
      "5\n",
      "2\n"
     ]
    }
   ],
   "source": [
    "a = int(input())\n",
    "b = int(input())\n",
    "c = int(input())\n",
    "value = b - a\n",
    "print(value)"
   ]
  }
 ],
 "metadata": {
  "kernelspec": {
   "display_name": "Python 3 (ipykernel)",
   "language": "python",
   "name": "python3"
  },
  "language_info": {
   "codemirror_mode": {
    "name": "ipython",
    "version": 3
   },
   "file_extension": ".py",
   "mimetype": "text/x-python",
   "name": "python",
   "nbconvert_exporter": "python",
   "pygments_lexer": "ipython3",
   "version": "3.10.4"
  }
 },
 "nbformat": 4,
 "nbformat_minor": 5
}
