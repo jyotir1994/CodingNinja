{
 "cells": [
  {
   "cell_type": "code",
   "execution_count": null,
   "id": "400dec28",
   "metadata": {},
   "outputs": [],
   "source": [
    "# Take Minimum value as MIN_VALUE = -2147483648\n",
    "from sys import stdin\n",
    "\n",
    "MIN_VALUE = -2147483648\n",
    "def secondLargestElement(arr, n):\n",
    "    #Your code goes here\n",
    "    if n == 0:\n",
    "        return MIN_VALUE\n",
    "    largest = arr[0] \n",
    "    secondLargest = MIN_VALUE \n",
    "    for i in range(n):\n",
    "        if largest < arr[i]:\n",
    "            secondLargest = largest\n",
    "            largest = arr[i]\n",
    "        elif secondLargest < arr[i] and arr[i] != largest:\n",
    "            secondLargest = arr[i]\n",
    "    return secondLargest\n",
    "\n",
    "#Taking Input Using Fast I/O\n",
    "def takeInput() :\n",
    "    n = int(stdin.readline().rstrip())\n",
    "    if n != 0:\n",
    "        arr = list(map(int, stdin.readline().rstrip().split(\" \")))\n",
    "        return arr, n\n",
    "\n",
    "    return list(), 0\n",
    "\n",
    "\n",
    "\n",
    "#main\n",
    "t = int(stdin.readline().rstrip())\n",
    "\n",
    "while t > 0 : \n",
    "    \n",
    "    arr, n = takeInput()\n",
    "    print(secondLargestElement(arr, n))\n",
    "\n",
    "    t -= 1"
   ]
  }
 ],
 "metadata": {
  "kernelspec": {
   "display_name": "Python 3 (ipykernel)",
   "language": "python",
   "name": "python3"
  },
  "language_info": {
   "codemirror_mode": {
    "name": "ipython",
    "version": 3
   },
   "file_extension": ".py",
   "mimetype": "text/x-python",
   "name": "python",
   "nbconvert_exporter": "python",
   "pygments_lexer": "ipython3",
   "version": "3.10.5"
  }
 },
 "nbformat": 4,
 "nbformat_minor": 5
}
