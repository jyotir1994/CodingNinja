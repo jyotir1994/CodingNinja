{
 "cells": [
  {
   "cell_type": "code",
   "execution_count": null,
   "id": "e7fcb90e",
   "metadata": {},
   "outputs": [],
   "source": [
    "from sys import stdin \n",
    "\n",
    "def sort012(arr, n) :\n",
    "    #Your code goes here\n",
    "    nextZero = 0\n",
    "    nextTwo = (n - 1) \n",
    "    i = 0 \n",
    "    while i <= nextTwo :\n",
    "        if arr[i] == 0 :\n",
    "            temp = arr[nextZero]\n",
    "            arr[nextZero] = arr[i] \n",
    "            arr[i] = temp\n",
    "            i += 1\n",
    "            nextZero += 1\n",
    "        elif arr[i] == 2 :\n",
    "            temp = arr[nextTwo] \n",
    "            arr[nextTwo] = arr[i] \n",
    "            arr[i] = temp\n",
    "            nextTwo -= 1\n",
    "        else : \n",
    "            i += 1\n",
    "\n",
    "#Taking Input Using Fast I/O\n",
    "def takeInput() :\n",
    "    n = int(stdin.readline().rstrip())\n",
    "    if n == 0 :\n",
    "        return list(), 0\n",
    "\n",
    "    arr = list(map(int, stdin.readline().rstrip().split(\" \")))\n",
    "    return arr, n\n",
    "\n",
    "\n",
    "#to print the array/list\n",
    "def printList(arr, n) :\n",
    "    for i in range(n) :\n",
    "        print(arr[i], end = \" \")\n",
    "\n",
    "    print()\n",
    "\n",
    "\n",
    "#main\n",
    "t = int(stdin.readline().rstrip())\n",
    "\n",
    "while t > 0 :\n",
    "    \n",
    "    arr, n = takeInput()\n",
    "\n",
    "    sort012(arr, n)\n",
    "    printList(arr, n)\n",
    "    \n",
    "    t -= 1"
   ]
  }
 ],
 "metadata": {
  "kernelspec": {
   "display_name": "Python 3 (ipykernel)",
   "language": "python",
   "name": "python3"
  },
  "language_info": {
   "codemirror_mode": {
    "name": "ipython",
    "version": 3
   },
   "file_extension": ".py",
   "mimetype": "text/x-python",
   "name": "python",
   "nbconvert_exporter": "python",
   "pygments_lexer": "ipython3",
   "version": "3.10.5"
  }
 },
 "nbformat": 4,
 "nbformat_minor": 5
}
