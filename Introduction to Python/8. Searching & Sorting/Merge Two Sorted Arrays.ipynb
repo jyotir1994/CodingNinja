{
 "cells": [
  {
   "cell_type": "code",
   "execution_count": null,
   "id": "ffdc7ff4",
   "metadata": {},
   "outputs": [],
   "source": [
    "from sys import stdin\n",
    "\n",
    "def merge(arr1, n, arr2, m) : \n",
    "    #Your code goes here\n",
    "    arr = []\n",
    "    i,j = 0,0\n",
    "    while (i < n and j < m):\n",
    "        if arr1[i] < arr2[j]:\n",
    "            arr.append(arr1[i])\n",
    "            i = i + 1\n",
    "        else:\n",
    "            arr.append(arr2[j])\n",
    "            j = j+1\n",
    "            \n",
    "    while (i < n):\n",
    "        arr.append(arr1[i])\n",
    "        i = i + 1\n",
    "    while (j < m):\n",
    "        arr.append(arr2[j])\n",
    "        j = j+1\n",
    "    return arr\n",
    "\n",
    "#Taking Input Using Fast I/O\n",
    "def takeInput() :\n",
    "    n = int(stdin.readline().rstrip())\n",
    "    if n != 0:\n",
    "        arr = list(map(int, stdin.readline().rstrip().split(\" \")))\n",
    "        return arr, n\n",
    "\n",
    "    return list(), 0\n",
    "\n",
    "\n",
    "#to print the array/list\n",
    "def printList(arr, n) : \n",
    "    for i in range(n) :\n",
    "        print(arr[i], end = \" \")\n",
    "        \n",
    "    print()\n",
    "\n",
    "\n",
    "#main\n",
    "t = int(stdin.readline().rstrip())\n",
    "\n",
    "while t > 0 :\n",
    "\n",
    "    arr1, n = takeInput()\n",
    "    arr2, m = takeInput()\n",
    "\n",
    "    ans = merge(arr1, n, arr2, m)\n",
    "    printList(ans, (n + m))\n",
    "\n",
    "    t -= 1"
   ]
  }
 ],
 "metadata": {
  "kernelspec": {
   "display_name": "Python 3 (ipykernel)",
   "language": "python",
   "name": "python3"
  },
  "language_info": {
   "codemirror_mode": {
    "name": "ipython",
    "version": 3
   },
   "file_extension": ".py",
   "mimetype": "text/x-python",
   "name": "python",
   "nbconvert_exporter": "python",
   "pygments_lexer": "ipython3",
   "version": "3.10.5"
  }
 },
 "nbformat": 4,
 "nbformat_minor": 5
}
