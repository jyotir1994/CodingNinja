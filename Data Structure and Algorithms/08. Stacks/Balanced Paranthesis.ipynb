{
 "cells": [
  {
   "cell_type": "code",
   "execution_count": null,
   "id": "93d9d500",
   "metadata": {},
   "outputs": [],
   "source": [
    "\n",
    "from sys import stdin\n",
    "\n",
    "\n",
    "def isBalanced(expression) :\n",
    "    s = []\n",
    "    for char in expression:\n",
    "        if char in '({[':\n",
    "            s.append(char)\n",
    "        elif char in ')':\n",
    "            if (not s or s[-1] != '('):\n",
    "                return False\n",
    "            s.pop()\n",
    "        elif char in ']':\n",
    "            if (not s or s[-1] != '['):\n",
    "                return False\n",
    "            s.pop()\n",
    "        elif char in '}':\n",
    "            if (not s or s[-1] != '{'):\n",
    "                return False\n",
    "            s.pop()\n",
    "            \n",
    "    if (not s):\n",
    "        return True\n",
    "    else:\n",
    "        return False\n",
    "\n",
    "\n",
    "\n",
    "#main\n",
    "expression = stdin.readline().strip()\n",
    "\n",
    "if isBalanced(expression) :\n",
    "\tprint(\"true\")\n",
    "\n",
    "else :\n",
    "\tprint(\"false\")\n"
   ]
  }
 ],
 "metadata": {
  "kernelspec": {
   "display_name": "Python 3 (ipykernel)",
   "language": "python",
   "name": "python3"
  },
  "language_info": {
   "codemirror_mode": {
    "name": "ipython",
    "version": 3
   },
   "file_extension": ".py",
   "mimetype": "text/x-python",
   "name": "python",
   "nbconvert_exporter": "python",
   "pygments_lexer": "ipython3",
   "version": "3.10.7"
  }
 },
 "nbformat": 4,
 "nbformat_minor": 5
}
