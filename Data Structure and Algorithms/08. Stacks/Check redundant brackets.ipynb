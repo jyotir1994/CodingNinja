{
 "cells": [
  {
   "cell_type": "code",
   "execution_count": null,
   "id": "d4311a09",
   "metadata": {},
   "outputs": [],
   "source": [
    "\n",
    "from sys import stdin\n",
    "import queue\n",
    "\n",
    "def checkRedundantBrackets(expression) :\n",
    "\t# Your code goes here\n",
    "    if expression[0]=='(' and expression[2]==')':\n",
    "        return True\n",
    "    q=queue.LifoQueue()\n",
    "    temp=0\n",
    "    l=len(expression)\n",
    "    for i in range(l-1):\n",
    "        c=expression[i]\n",
    "        n=expression[i+1]\n",
    "        if c=='(' and n==')':\n",
    "            return True\n",
    "        elif c=='(' and n=='(':\n",
    "            temp=2\n",
    "        elif c==')' and n==')' and temp==2:\n",
    "            return True\n",
    "    return False\n",
    "\n",
    "#main\n",
    "expression = stdin.readline().strip()\n",
    "\n",
    "if checkRedundantBrackets(expression) :\n",
    "\tprint(\"true\")\n",
    "\n",
    "else :\n",
    "\tprint(\"false\")\n"
   ]
  }
 ],
 "metadata": {
  "kernelspec": {
   "display_name": "Python 3 (ipykernel)",
   "language": "python",
   "name": "python3"
  },
  "language_info": {
   "codemirror_mode": {
    "name": "ipython",
    "version": 3
   },
   "file_extension": ".py",
   "mimetype": "text/x-python",
   "name": "python",
   "nbconvert_exporter": "python",
   "pygments_lexer": "ipython3",
   "version": "3.10.7"
  }
 },
 "nbformat": 4,
 "nbformat_minor": 5
}
