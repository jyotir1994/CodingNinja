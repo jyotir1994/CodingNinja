{
 "cells": [
  {
   "cell_type": "code",
   "execution_count": null,
   "id": "b1e92d4d",
   "metadata": {},
   "outputs": [],
   "source": [
    "from sys import stdin, setrecursionlimit\n",
    "setrecursionlimit(10 ** 6)\n",
    "\n",
    "\n",
    "def reverseStack(inputStack, extraStack) :\n",
    "\t#Your code goes here\n",
    "    if len(inputStack)<=1:\n",
    "        return\n",
    "    while len(inputStack)!=1:\n",
    "        ele=inputStack.pop()\n",
    "        extraStack.append(ele)\n",
    "    lastelement=inputStack.pop()\n",
    "    while len(extraStack)!=0:\n",
    "        ele=extraStack.pop()\n",
    "        inputStack.append(ele)\n",
    "    reverseStack(inputStack,extraStack)\n",
    "    inputStack.append(lastelement)\n",
    "\n",
    "\n",
    "'''-------------- Utility Functions --------------'''\n",
    "\n",
    "#Takes a list as a stack and returns whether the stack is empty or not\n",
    "def isEmpty(stack) :\n",
    "    return len(stack) == 0\n",
    "\n",
    "\n",
    "#Taking input using fast I/o method\n",
    "def takeInput() :\n",
    "\tsize = int(stdin.readline().strip())\n",
    "\tinputStack = list()\n",
    "\n",
    "\tif size == 0 :\n",
    "\t\treturn inputStack\n",
    "\n",
    "\n",
    "\tvalues = list(map(int, stdin.readline().strip().split(\" \")))\n",
    "\tinputStack = values\n",
    "\n",
    "\treturn inputStack\n",
    "\n",
    "\n",
    "# Main\n",
    "inputStack = takeInput()\n",
    "emptyStack = list()\n",
    "\n",
    "reverseStack(inputStack, emptyStack)\n",
    "\n",
    "while not isEmpty(inputStack) :\n",
    "\tprint(inputStack.pop(), end = \" \")"
   ]
  }
 ],
 "metadata": {
  "kernelspec": {
   "display_name": "Python 3 (ipykernel)",
   "language": "python",
   "name": "python3"
  },
  "language_info": {
   "codemirror_mode": {
    "name": "ipython",
    "version": 3
   },
   "file_extension": ".py",
   "mimetype": "text/x-python",
   "name": "python",
   "nbconvert_exporter": "python",
   "pygments_lexer": "ipython3",
   "version": "3.10.7"
  }
 },
 "nbformat": 4,
 "nbformat_minor": 5
}
