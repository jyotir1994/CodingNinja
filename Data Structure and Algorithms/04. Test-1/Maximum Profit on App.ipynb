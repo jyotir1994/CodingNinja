{
 "cells": [
  {
   "cell_type": "markdown",
   "id": "4934092b",
   "metadata": {},
   "source": [
    "You have made a smartphone app and want to set its subscription price such that the profit earned is maximised. There are certain users who will subscribe to your app only if their budget is greater than or equal to your price.\n",
    "You will be provided with a list of size N having budgets of subscribers and you need to return the maximum profit that you can earn.\n",
    "Lets say you decide that price of your app is Rs. x and there are N number of subscribers. So maximum profit you can earn is :\n",
    " m * x\n",
    "where m is total number of subscribers whose budget is greater than or equal to x.\n",
    "Input format :\n",
    "Line 1 : N (No. of subscribers)\n",
    "Line 2 : Budget of subscribers (separated by space)\n",
    "Output Format :\n",
    " Maximum profit\n",
    "Constraints :\n",
    "1 <= N <= 10^6\n",
    "1 <=budget[i]<=9999\n",
    "Sample Input 1 :\n",
    "4\n",
    "30 20 53 14\n",
    "Sample Output 1 :\n",
    "60\n",
    "Sample Output 1 Explanation :\n",
    "Price of your app should be Rs. 20 or Rs. 30. For both prices, you can get the profit Rs. 60.\n",
    "Sample Input 2 :\n",
    "5\n",
    "34 78 90 15 67\n",
    "Sample Output 2 :\n",
    "201\n",
    "Sample Output 2 Explanation :\n",
    "Price of your app should be Rs. 67. You can get the profit Rs. 201 (i.e. 3 * 67)."
   ]
  },
  {
   "cell_type": "code",
   "execution_count": null,
   "id": "cedcb922",
   "metadata": {},
   "outputs": [],
   "source": [
    "num=int(input())\n",
    "arr= list(map(int,input().split()))\n",
    "m=0\n",
    "arr.sort()\n",
    "for i in arr:\n",
    "    if m<i*num:\n",
    "        m=i*num\n",
    "    num=num-1\n",
    "print(m)"
   ]
  }
 ],
 "metadata": {
  "kernelspec": {
   "display_name": "Python 3 (ipykernel)",
   "language": "python",
   "name": "python3"
  },
  "language_info": {
   "codemirror_mode": {
    "name": "ipython",
    "version": 3
   },
   "file_extension": ".py",
   "mimetype": "text/x-python",
   "name": "python",
   "nbconvert_exporter": "python",
   "pygments_lexer": "ipython3",
   "version": "3.10.7"
  }
 },
 "nbformat": 4,
 "nbformat_minor": 5
}
