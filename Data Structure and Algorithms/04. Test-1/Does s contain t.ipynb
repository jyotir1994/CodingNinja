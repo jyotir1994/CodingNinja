{
 "cells": [
  {
   "cell_type": "markdown",
   "id": "a831f964",
   "metadata": {},
   "source": [
    "Given two string s and t, write a function to check if s contains all characters of t (in the same order as they are in string t).\n",
    "Return true or false.\n",
    "Do it recursively.\n",
    "E.g. : s = “abchjsgsuohhdhyrikkknddg” contains all characters of t=”coding” in the same order. So function will return true.\n",
    "Input Format :\n",
    "Line 1 : String s\n",
    "Line 2 : String t\n",
    "Output Format :\n",
    "true or false\n",
    "Sample Input 1 :\n",
    "abchjsgsuohhdhyrikkknddg\n",
    "coding\n",
    "Sample Output 1 :\n",
    "true\n",
    "Sample Input 2 :\n",
    "abcde\n",
    "aeb\n",
    "Sample Output 2 :\n",
    "false"
   ]
  },
  {
   "cell_type": "code",
   "execution_count": null,
   "id": "4acbaf3c",
   "metadata": {},
   "outputs": [],
   "source": [
    "def getString(x):\n",
    "    return x\n",
    "    \n",
    "def contains(a,b):\n",
    "    if (len(b) == 0) :\n",
    "        return True\n",
    "    if (len(a) == 0) :\n",
    "        return False\n",
    "    if (a[0] == b[0]) :\n",
    "        a = a[1:]\n",
    "        b = b[1:]\n",
    "    else :\n",
    "        a = a[1:]\n",
    "    ans = contains(a, b)\n",
    "    return ans\n",
    "    \n",
    "    \n",
    "s = input()\n",
    "t = input()\n",
    "\n",
    "ans = contains(s,t)\n",
    "if ans is True:\n",
    "    print('true')\n",
    "else:\n",
    "    print('false')\n"
   ]
  }
 ],
 "metadata": {
  "kernelspec": {
   "display_name": "Python 3 (ipykernel)",
   "language": "python",
   "name": "python3"
  },
  "language_info": {
   "codemirror_mode": {
    "name": "ipython",
    "version": 3
   },
   "file_extension": ".py",
   "mimetype": "text/x-python",
   "name": "python",
   "nbconvert_exporter": "python",
   "pygments_lexer": "ipython3",
   "version": "3.10.7"
  }
 },
 "nbformat": 4,
 "nbformat_minor": 5
}
