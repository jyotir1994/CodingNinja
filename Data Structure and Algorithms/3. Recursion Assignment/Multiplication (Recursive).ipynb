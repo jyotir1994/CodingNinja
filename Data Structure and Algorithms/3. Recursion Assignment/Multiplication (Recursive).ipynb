{
 "cells": [
  {
   "cell_type": "code",
   "execution_count": 1,
   "id": "f8d5350e",
   "metadata": {},
   "outputs": [
    {
     "name": "stdout",
     "output_type": "stream",
     "text": [
      "3\n",
      "5\n",
      "15\n"
     ]
    }
   ],
   "source": [
    "from sys import setrecursionlimit\n",
    "setrecursionlimit(10**6) \n",
    "\n",
    "def mul(m, n):\n",
    "\n",
    "    if m == 0 or n == 0:\n",
    "        return 0\n",
    " \n",
    "    if n == 1:\n",
    "        return m\n",
    " \n",
    "    if m == 1:\n",
    "        return n\n",
    " \n",
    "    return m + mul(m, n - 1)\n",
    "\n",
    "m = int(input())\n",
    "n = int(input())\n",
    "\n",
    "print(mul(m,n))"
   ]
  }
 ],
 "metadata": {
  "kernelspec": {
   "display_name": "Python 3 (ipykernel)",
   "language": "python",
   "name": "python3"
  },
  "language_info": {
   "codemirror_mode": {
    "name": "ipython",
    "version": 3
   },
   "file_extension": ".py",
   "mimetype": "text/x-python",
   "name": "python",
   "nbconvert_exporter": "python",
   "pygments_lexer": "ipython3",
   "version": "3.10.5"
  }
 },
 "nbformat": 4,
 "nbformat_minor": 5
}
