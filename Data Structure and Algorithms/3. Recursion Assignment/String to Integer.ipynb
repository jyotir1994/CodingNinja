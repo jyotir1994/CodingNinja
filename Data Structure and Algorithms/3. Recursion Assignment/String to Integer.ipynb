{
 "cells": [
  {
   "cell_type": "code",
   "execution_count": 1,
   "id": "f464c74d",
   "metadata": {},
   "outputs": [
    {
     "name": "stdout",
     "output_type": "stream",
     "text": [
      "00001231\n",
      "1231\n"
     ]
    }
   ],
   "source": [
    "def String_to_Integer(n,si):\n",
    "    if(si==0):\n",
    "        return int(n[si])\n",
    "    smalloutput=int(n[si])+10*String_to_Integer(n,si-1)\n",
    "    return smalloutput\n",
    "a=input()\n",
    "n=String_to_Integer(a,len(a)-1)\n",
    "print(n)"
   ]
  }
 ],
 "metadata": {
  "kernelspec": {
   "display_name": "Python 3 (ipykernel)",
   "language": "python",
   "name": "python3"
  },
  "language_info": {
   "codemirror_mode": {
    "name": "ipython",
    "version": 3
   },
   "file_extension": ".py",
   "mimetype": "text/x-python",
   "name": "python",
   "nbconvert_exporter": "python",
   "pygments_lexer": "ipython3",
   "version": "3.10.5"
  }
 },
 "nbformat": 4,
 "nbformat_minor": 5
}
