{
 "cells": [
  {
   "cell_type": "code",
   "execution_count": 1,
   "id": "ee5cf19e",
   "metadata": {},
   "outputs": [
    {
     "name": "stdout",
     "output_type": "stream",
     "text": [
      "racecar\n",
      "true\n"
     ]
    }
   ],
   "source": [
    "def isPalindrome(str):\n",
    "    if len(str)<=1:\n",
    "        return True\n",
    "    if str[0]!=str[len(str)-1]:\n",
    "        return False\n",
    "    return isPalindrome(str[1:-1])\n",
    "\n",
    "\n",
    "str = input()\n",
    "if isPalindrome(str):\n",
    "    print(\"true\")\n",
    "else:\n",
    "    print(\"false\")"
   ]
  }
 ],
 "metadata": {
  "kernelspec": {
   "display_name": "Python 3 (ipykernel)",
   "language": "python",
   "name": "python3"
  },
  "language_info": {
   "codemirror_mode": {
    "name": "ipython",
    "version": 3
   },
   "file_extension": ".py",
   "mimetype": "text/x-python",
   "name": "python",
   "nbconvert_exporter": "python",
   "pygments_lexer": "ipython3",
   "version": "3.10.5"
  }
 },
 "nbformat": 4,
 "nbformat_minor": 5
}
