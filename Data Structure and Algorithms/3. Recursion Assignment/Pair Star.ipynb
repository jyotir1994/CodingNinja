{
 "cells": [
  {
   "cell_type": "code",
   "execution_count": 1,
   "id": "47867105",
   "metadata": {},
   "outputs": [
    {
     "name": "stdout",
     "output_type": "stream",
     "text": [
      "hello\n",
      "hel*lo\n"
     ]
    }
   ],
   "source": [
    "def pairStar(s):\n",
    "    n=len(s)\n",
    "    if n<=1 :\n",
    "        return s\n",
    "    temp = pairStar(s[1:])\n",
    "    if s[0]==s[1]:\n",
    "        return s[0]+\"*\"+temp\n",
    "    else:\n",
    "        return s[0]+temp\n",
    "s= input().strip()\n",
    "print(pairStar(s))"
   ]
  }
 ],
 "metadata": {
  "kernelspec": {
   "display_name": "Python 3 (ipykernel)",
   "language": "python",
   "name": "python3"
  },
  "language_info": {
   "codemirror_mode": {
    "name": "ipython",
    "version": 3
   },
   "file_extension": ".py",
   "mimetype": "text/x-python",
   "name": "python",
   "nbconvert_exporter": "python",
   "pygments_lexer": "ipython3",
   "version": "3.10.5"
  }
 },
 "nbformat": 4,
 "nbformat_minor": 5
}
