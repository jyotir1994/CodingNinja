{
 "cells": [
  {
   "cell_type": "code",
   "execution_count": 4,
   "id": "50c2182a",
   "metadata": {},
   "outputs": [
    {
     "name": "stdout",
     "output_type": "stream",
     "text": [
      "00010204\n",
      "2\n"
     ]
    }
   ],
   "source": [
    "count=0\n",
    "def count_digit(num):\n",
    "    global count\n",
    "    if num == 0:\n",
    "        return 1\n",
    "    if (num >0):\n",
    "        if(num%10==0):\n",
    "            count +=1\n",
    "        count_digit(num // 10)\n",
    "    return count\n",
    "n=int(input())\n",
    "print(count_digit(n))"
   ]
  },
  {
   "cell_type": "markdown",
   "id": "f5e93ab7",
   "metadata": {},
   "source": [
    "Note: Even though \"00010204\" has 5 zeros, the output would still be 2 because when you convert it to an integer, it becomes 10204."
   ]
  }
 ],
 "metadata": {
  "kernelspec": {
   "display_name": "Python 3 (ipykernel)",
   "language": "python",
   "name": "python3"
  },
  "language_info": {
   "codemirror_mode": {
    "name": "ipython",
    "version": 3
   },
   "file_extension": ".py",
   "mimetype": "text/x-python",
   "name": "python",
   "nbconvert_exporter": "python",
   "pygments_lexer": "ipython3",
   "version": "3.10.5"
  }
 },
 "nbformat": 4,
 "nbformat_minor": 5
}
