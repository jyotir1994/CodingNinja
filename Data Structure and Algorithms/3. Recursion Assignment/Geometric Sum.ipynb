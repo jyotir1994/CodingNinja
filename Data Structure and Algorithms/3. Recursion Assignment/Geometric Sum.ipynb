{
 "cells": [
  {
   "cell_type": "code",
   "execution_count": 1,
   "id": "e38f46bd",
   "metadata": {},
   "outputs": [
    {
     "name": "stdout",
     "output_type": "stream",
     "text": [
      "3\n",
      "1.87500\n"
     ]
    }
   ],
   "source": [
    "def geometric(n):\n",
    "    \n",
    "    if n == 0:\n",
    "        return 1\n",
    "    return 1/pow(2,n)+ geometric(n-1)\n",
    "\n",
    "n = int(input())\n",
    "val = geometric(n)\n",
    "print('%.5f' % val)"
   ]
  }
 ],
 "metadata": {
  "kernelspec": {
   "display_name": "Python 3 (ipykernel)",
   "language": "python",
   "name": "python3"
  },
  "language_info": {
   "codemirror_mode": {
    "name": "ipython",
    "version": 3
   },
   "file_extension": ".py",
   "mimetype": "text/x-python",
   "name": "python",
   "nbconvert_exporter": "python",
   "pygments_lexer": "ipython3",
   "version": "3.10.5"
  }
 },
 "nbformat": 4,
 "nbformat_minor": 5
}
