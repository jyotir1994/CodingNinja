{
 "cells": [
  {
   "cell_type": "code",
   "execution_count": 1,
   "id": "2252395c",
   "metadata": {},
   "outputs": [
    {
     "name": "stdout",
     "output_type": "stream",
     "text": [
      "4\n",
      "7\n"
     ]
    }
   ],
   "source": [
    "def Staircase(n):\n",
    "    if(n<=3):\n",
    "        if(n==1):\n",
    "            return 1\n",
    "        elif(n==2):\n",
    "            return 2\n",
    "        else:\n",
    "            return 4\n",
    "    x=Staircase(n-1)\n",
    "    y=Staircase(n-2)\n",
    "    z=Staircase(n-3)\n",
    "    return x+y+z\n",
    "n=int(input())\n",
    "a=Staircase(n)\n",
    "print(a)"
   ]
  }
 ],
 "metadata": {
  "kernelspec": {
   "display_name": "Python 3 (ipykernel)",
   "language": "python",
   "name": "python3"
  },
  "language_info": {
   "codemirror_mode": {
    "name": "ipython",
    "version": 3
   },
   "file_extension": ".py",
   "mimetype": "text/x-python",
   "name": "python",
   "nbconvert_exporter": "python",
   "pygments_lexer": "ipython3",
   "version": "3.10.5"
  }
 },
 "nbformat": 4,
 "nbformat_minor": 5
}
