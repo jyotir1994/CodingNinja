{
 "cells": [
  {
   "cell_type": "code",
   "execution_count": 6,
   "id": "e6dc1f79",
   "metadata": {},
   "outputs": [],
   "source": [
    "def partition(a, si, ei):\n",
    "    pivot = a[si]\n",
    "    #find number of elements smaller than pivot    \n",
    "    count = 0\n",
    "    \n",
    "    for i in range(si, ei+1):\n",
    "        if a[i] < pivot:\n",
    "            count = count + 1\n",
    "    \n",
    "    a[si+count], a[si] = a[si], a[si+count]\n",
    "    pivot_index = si + count\n",
    "    \n",
    "    i = si\n",
    "    j = ei\n",
    "\n",
    "    while i < j:\n",
    "        if a[i] < pivot:\n",
    "            i = i + 1\n",
    "        elif a[j] >= pivot:\n",
    "            j = j - 1\n",
    "        else:\n",
    "            a[i], a[j] = a[j], a[i]\n",
    "            i = i + 1\n",
    "            j = j - 1\n",
    "        \n",
    "    return pivot_index"
   ]
  },
  {
   "cell_type": "code",
   "execution_count": 9,
   "id": "0ef36531",
   "metadata": {},
   "outputs": [
    {
     "name": "stdout",
     "output_type": "stream",
     "text": [
      "6\n",
      "2 6 8 5 4 3\n",
      "2 3 5 4 6 8\n"
     ]
    }
   ],
   "source": [
    "def quickSort(arr, start, end):\n",
    "    if start >= end:\n",
    "        return \n",
    "    \n",
    "    pivot_index = partition(arr, start, end)\n",
    "    quickSort(arr, start, pivot_index-1)\n",
    "    quickSort(arr, pivot_index+1, end)\n",
    "\n",
    "n=int(input())\n",
    "arr=list(int(i) for i in input().strip().split(' '))\n",
    "quickSort(arr, 0, n - 1)\n",
    "print(*arr)\n"
   ]
  }
 ],
 "metadata": {
  "kernelspec": {
   "display_name": "Python 3 (ipykernel)",
   "language": "python",
   "name": "python3"
  },
  "language_info": {
   "codemirror_mode": {
    "name": "ipython",
    "version": 3
   },
   "file_extension": ".py",
   "mimetype": "text/x-python",
   "name": "python",
   "nbconvert_exporter": "python",
   "pygments_lexer": "ipython3",
   "version": "3.10.5"
  }
 },
 "nbformat": 4,
 "nbformat_minor": 5
}
