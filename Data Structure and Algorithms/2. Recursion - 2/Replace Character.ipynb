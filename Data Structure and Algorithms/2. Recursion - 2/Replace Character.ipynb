{
 "cells": [
  {
   "cell_type": "code",
   "execution_count": 2,
   "id": "cc01323d",
   "metadata": {},
   "outputs": [
    {
     "name": "stdout",
     "output_type": "stream",
     "text": [
      "ecrctcgc\n",
      "c\n",
      "x\n"
     ]
    },
    {
     "data": {
      "text/plain": [
       "'exrxtxgx'"
      ]
     },
     "execution_count": 2,
     "metadata": {},
     "output_type": "execute_result"
    }
   ],
   "source": [
    "def replaceChar(string,replaceValue,replaceWith):\n",
    "    if len(string)==0:\n",
    "        return string\n",
    "    smallOutput=replaceChar(string[1:],replaceValue,replaceWith)\n",
    "    if string[0]==replaceValue:\n",
    "        return replaceWith+smallOutput\n",
    "    else:\n",
    "        return string[0]+smallOutput\n",
    "\n",
    "string = input()\n",
    "replaceValue = input()\n",
    "replaceWith = input()\n",
    "replaceChar(string,replaceValue,replaceWith)"
   ]
  }
 ],
 "metadata": {
  "kernelspec": {
   "display_name": "Python 3 (ipykernel)",
   "language": "python",
   "name": "python3"
  },
  "language_info": {
   "codemirror_mode": {
    "name": "ipython",
    "version": 3
   },
   "file_extension": ".py",
   "mimetype": "text/x-python",
   "name": "python",
   "nbconvert_exporter": "python",
   "pygments_lexer": "ipython3",
   "version": "3.10.5"
  }
 },
 "nbformat": 4,
 "nbformat_minor": 5
}
