{
 "cells": [
  {
   "cell_type": "code",
   "execution_count": 4,
   "id": "bf71e58c",
   "metadata": {},
   "outputs": [
    {
     "name": "stdout",
     "output_type": "stream",
     "text": [
      "xdxc\n",
      "dc\n"
     ]
    }
   ],
   "source": [
    "def removeX(string):\n",
    "    if len(string)==0:\n",
    "        return string\n",
    "    smallOutput=removeX(string[1:])\n",
    "    if string[0]==\"x\":\n",
    "        return smallOutput\n",
    "    else:\n",
    "        return string[0]+smallOutput\n",
    "\n",
    "\n",
    "# Main\n",
    "string = input()\n",
    "print(removeX(string))"
   ]
  }
 ],
 "metadata": {
  "kernelspec": {
   "display_name": "Python 3 (ipykernel)",
   "language": "python",
   "name": "python3"
  },
  "language_info": {
   "codemirror_mode": {
    "name": "ipython",
    "version": 3
   },
   "file_extension": ".py",
   "mimetype": "text/x-python",
   "name": "python",
   "nbconvert_exporter": "python",
   "pygments_lexer": "ipython3",
   "version": "3.10.5"
  }
 },
 "nbformat": 4,
 "nbformat_minor": 5
}
