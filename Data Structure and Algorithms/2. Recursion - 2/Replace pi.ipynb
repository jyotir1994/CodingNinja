{
 "cells": [
  {
   "cell_type": "code",
   "execution_count": 2,
   "id": "cd3962ee",
   "metadata": {},
   "outputs": [
    {
     "name": "stdout",
     "output_type": "stream",
     "text": [
      "piefcpi\n"
     ]
    },
    {
     "data": {
      "text/plain": [
       "'3.14efc3.14'"
      ]
     },
     "execution_count": 2,
     "metadata": {},
     "output_type": "execute_result"
    }
   ],
   "source": [
    "def replacePi(s):\n",
    "    if len(s)==0 or len(s)==1:\n",
    "        return s\n",
    "    if s[0]=='p' and s[1]=='i':\n",
    "        smallOutput=replacePi(s[2:])\n",
    "        return \"3.14\"+smallOutput\n",
    "    else:\n",
    "        smallOutput=replacePi(s[1:])\n",
    "        return s[0]+smallOutput\n",
    "\n",
    "s = input()\n",
    "replacePi(s)"
   ]
  }
 ],
 "metadata": {
  "kernelspec": {
   "display_name": "Python 3 (ipykernel)",
   "language": "python",
   "name": "python3"
  },
  "language_info": {
   "codemirror_mode": {
    "name": "ipython",
    "version": 3
   },
   "file_extension": ".py",
   "mimetype": "text/x-python",
   "name": "python",
   "nbconvert_exporter": "python",
   "pygments_lexer": "ipython3",
   "version": "3.10.5"
  }
 },
 "nbformat": 4,
 "nbformat_minor": 5
}
