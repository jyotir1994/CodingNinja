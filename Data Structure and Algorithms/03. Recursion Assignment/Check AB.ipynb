{
 "cells": [
  {
   "cell_type": "code",
   "execution_count": 2,
   "id": "16ffe006",
   "metadata": {},
   "outputs": [
    {
     "name": "stdout",
     "output_type": "stream",
     "text": [
      "ababababa\n",
      "false\n"
     ]
    }
   ],
   "source": [
    "def checkab(s):\n",
    "    if len(s)==0:\n",
    "        return True\n",
    "    if s[0]==\"a\":\n",
    "        if len(s[1:])>1 and s[1:3]==\"bb\":\n",
    "            return checkab(s[3:])\n",
    "        else:\n",
    "            return checkab(s[1:])\n",
    "    else:\n",
    "        return False\n",
    "s=input()\n",
    "if checkab(s)==True:\n",
    "    print(\"true\")\n",
    "else:\n",
    "    print(\"false\")"
   ]
  }
 ],
 "metadata": {
  "kernelspec": {
   "display_name": "Python 3 (ipykernel)",
   "language": "python",
   "name": "python3"
  },
  "language_info": {
   "codemirror_mode": {
    "name": "ipython",
    "version": 3
   },
   "file_extension": ".py",
   "mimetype": "text/x-python",
   "name": "python",
   "nbconvert_exporter": "python",
   "pygments_lexer": "ipython3",
   "version": "3.10.5"
  }
 },
 "nbformat": 4,
 "nbformat_minor": 5
}
