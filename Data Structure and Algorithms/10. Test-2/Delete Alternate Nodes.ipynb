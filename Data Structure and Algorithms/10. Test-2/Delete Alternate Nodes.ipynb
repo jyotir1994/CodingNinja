{
 "cells": [
  {
   "cell_type": "code",
   "execution_count": null,
   "id": "dd34bf5f",
   "metadata": {},
   "outputs": [],
   "source": [
    "def deleteAlternateNodes(head):\n",
    "    if (head == None):\n",
    "        return\n",
    "  \n",
    "    # Initialize prev and node to be deleted \n",
    "    prev = head \n",
    "    now = head.next\n",
    "  \n",
    "    while (prev != None and now != None): \n",
    "          \n",
    "        # Change next link of previous node \n",
    "        prev.next = now.next\n",
    "  \n",
    "        # Free memory \n",
    "        now = None\n",
    "  \n",
    "        # Update prev and node \n",
    "        prev = prev.next\n",
    "        if (prev != None): \n",
    "            now = prev.next"
   ]
  }
 ],
 "metadata": {
  "kernelspec": {
   "display_name": "Python 3 (ipykernel)",
   "language": "python",
   "name": "python3"
  },
  "language_info": {
   "codemirror_mode": {
    "name": "ipython",
    "version": 3
   },
   "file_extension": ".py",
   "mimetype": "text/x-python",
   "name": "python",
   "nbconvert_exporter": "python",
   "pygments_lexer": "ipython3",
   "version": "3.10.7"
  }
 },
 "nbformat": 4,
 "nbformat_minor": 5
}
