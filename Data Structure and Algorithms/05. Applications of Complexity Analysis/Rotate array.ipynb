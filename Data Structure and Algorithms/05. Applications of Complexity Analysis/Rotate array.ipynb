{
 "cells": [
  {
   "cell_type": "code",
   "execution_count": null,
   "id": "fb349ba7",
   "metadata": {},
   "outputs": [],
   "source": [
    "from sys import stdin\n",
    "\n",
    "def swapElements (arr,start,end):\n",
    "    arr[start],arr[end]=arr[end],arr[start]\n",
    "    \n",
    "def reverse(arr,start,end):\n",
    "    while (start<end):\n",
    "        swapElements(arr,start,end)\n",
    "        start +=1\n",
    "        end -= 1\n",
    "        \n",
    "def rotate (arr,n,d):\n",
    "    if n ==0:\n",
    "        return\n",
    "    \n",
    "    if d>=n and n!=0:\n",
    "        d = d%n\n",
    "        \n",
    "    reverse(arr,0,n-1)\n",
    "    reverse(arr,0,n-d-1)\n",
    "    reverse(arr,n-d,n-1)\n",
    "    \n",
    "    \n",
    "def takeInput() :\n",
    "    n = int(stdin.readline().rstrip())\n",
    "    if n == 0:\n",
    "        return list(), 0\n",
    "\n",
    "    arr = list(map(int, stdin.readline().rstrip().split(\" \")))\n",
    "    return arr, n\n",
    "\n",
    "\n",
    "def printList(arr, n) : \n",
    "    for i in range(n) :\n",
    "        print(arr[i], end = \" \")\n",
    "    print()\n",
    "\n",
    "\n",
    "t = int(stdin.readline().rstrip())\n",
    "\n",
    "while t > 0 :\n",
    "    \n",
    "    arr, n = takeInput()\n",
    "    d = int(stdin.readline().rstrip())\n",
    "    rotate(arr, n, d)\n",
    "    printList(arr, n)\n",
    "    \n",
    "    t -= 1"
   ]
  }
 ],
 "metadata": {
  "kernelspec": {
   "display_name": "Python 3 (ipykernel)",
   "language": "python",
   "name": "python3"
  },
  "language_info": {
   "codemirror_mode": {
    "name": "ipython",
    "version": 3
   },
   "file_extension": ".py",
   "mimetype": "text/x-python",
   "name": "python",
   "nbconvert_exporter": "python",
   "pygments_lexer": "ipython3",
   "version": "3.10.7"
  }
 },
 "nbformat": 4,
 "nbformat_minor": 5
}
