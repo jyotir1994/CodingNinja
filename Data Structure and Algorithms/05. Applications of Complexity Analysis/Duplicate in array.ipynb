{
 "cells": [
  {
   "cell_type": "code",
   "execution_count": null,
   "id": "fc334613",
   "metadata": {},
   "outputs": [],
   "source": [
    "import sys\n",
    "\n",
    "def duplicateNumber(arr,n):\n",
    "    # Please add your code here\n",
    "    l=len(arr)\n",
    "    s=0\n",
    "    for i in range(0,l-1):\n",
    "        s ^=i\n",
    "        s ^=arr[i]\n",
    "    return s^arr[l-1]\n",
    "\n",
    "\n",
    "def takeInput() :\n",
    "    n = int(sys.stdin.readline().strip())\n",
    "\n",
    "    if n == 0 :\n",
    "        return list(), 0\n",
    "\n",
    "    arr = list(map(int, sys.stdin.readline().strip().split()))\n",
    "    return arr, n\n",
    "\n",
    "\n",
    "t = int(sys.stdin.readline().strip())\n",
    "\n",
    "while t > 0 :\n",
    "    \n",
    "    arr, n = takeInput()\n",
    "    print(duplicateNumber(arr, n))\n",
    "\n",
    "    t -= 1\n",
    "    "
   ]
  }
 ],
 "metadata": {
  "kernelspec": {
   "display_name": "Python 3 (ipykernel)",
   "language": "python",
   "name": "python3"
  },
  "language_info": {
   "codemirror_mode": {
    "name": "ipython",
    "version": 3
   },
   "file_extension": ".py",
   "mimetype": "text/x-python",
   "name": "python",
   "nbconvert_exporter": "python",
   "pygments_lexer": "ipython3",
   "version": "3.10.7"
  }
 },
 "nbformat": 4,
 "nbformat_minor": 5
}
