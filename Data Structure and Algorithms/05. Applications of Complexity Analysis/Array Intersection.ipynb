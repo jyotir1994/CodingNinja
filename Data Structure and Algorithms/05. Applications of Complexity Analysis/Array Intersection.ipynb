{
 "cells": [
  {
   "cell_type": "code",
   "execution_count": null,
   "id": "dd511285",
   "metadata": {},
   "outputs": [],
   "source": [
    "from sys import stdin\n",
    "\n",
    "def intersection(arr1, arr2, n, m) :\n",
    "\n",
    "    arr1.sort()\n",
    "    arr2.sort()\n",
    "\n",
    "    i = 0 #pointer to iterate over arr1\n",
    "    j = 0 #pointer to iterate over arr2\n",
    "\n",
    "    while i < n and j < m :\n",
    "        \n",
    "        if arr1[i] == arr2[j] :\n",
    "            print(arr1[i], end = \" \") \n",
    "            i += 1\n",
    "            j += 1\n",
    "        elif arr1[i] < arr2[j] :\n",
    "            i += 1\n",
    "        else :\n",
    "            j += 1\n",
    "\n",
    "\n",
    "\n",
    "\n",
    "\n",
    "def takeInput() :\n",
    "    n = int(stdin.readline().strip())\n",
    "    \n",
    "    if n == 0 :\n",
    "    \treturn list(), 0\n",
    "\n",
    "    arr = list(map(int, stdin.readline().strip().split(\" \")))\n",
    "    return arr, n\n",
    "\n",
    "\n",
    "#main\n",
    "t = int(stdin.readline().strip())\n",
    "\n",
    "while t > 0 :\n",
    "\n",
    "    arr1, n = takeInput()\n",
    "    arr2, m = takeInput()\n",
    "    intersection(arr1, arr2, n, m)\n",
    "    print()\n",
    "\n",
    "    t -= 1"
   ]
  }
 ],
 "metadata": {
  "kernelspec": {
   "display_name": "Python 3 (ipykernel)",
   "language": "python",
   "name": "python3"
  },
  "language_info": {
   "codemirror_mode": {
    "name": "ipython",
    "version": 3
   },
   "file_extension": ".py",
   "mimetype": "text/x-python",
   "name": "python",
   "nbconvert_exporter": "python",
   "pygments_lexer": "ipython3",
   "version": "3.10.7"
  }
 },
 "nbformat": 4,
 "nbformat_minor": 5
}
