{
 "cells": [
  {
   "cell_type": "code",
   "execution_count": null,
   "id": "93ae56ef",
   "metadata": {},
   "outputs": [],
   "source": [
    "def power(x, n):\n",
    "    if n ==0:\n",
    "        return 1\n",
    "    SmallPower = power(x,n//2)\n",
    "    SmallPower*SmallPower\n",
    "    return x**n\n",
    "    \n",
    "\n",
    "from sys import setrecursionlimit\n",
    "setrecursionlimit(11000)\n",
    "x, n=list(int(i) for i in input().strip().split(' '))\n",
    "print(power(x, n))\n"
   ]
  }
 ],
 "metadata": {
  "kernelspec": {
   "display_name": "Python 3 (ipykernel)",
   "language": "python",
   "name": "python3"
  },
  "language_info": {
   "codemirror_mode": {
    "name": "ipython",
    "version": 3
   },
   "file_extension": ".py",
   "mimetype": "text/x-python",
   "name": "python",
   "nbconvert_exporter": "python",
   "pygments_lexer": "ipython3",
   "version": "3.10.7"
  }
 },
 "nbformat": 4,
 "nbformat_minor": 5
}
