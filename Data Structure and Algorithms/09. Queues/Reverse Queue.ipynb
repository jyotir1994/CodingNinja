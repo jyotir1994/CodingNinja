{
 "cells": [
  {
   "cell_type": "code",
   "execution_count": null,
   "id": "19bef7b9",
   "metadata": {},
   "outputs": [],
   "source": [
    "from sys import stdin, setrecursionlimit\n",
    "import queue\n",
    "\n",
    "setrecursionlimit(10 ** 6)\n",
    "\n",
    "def reverseQueue(inputQueue) :\n",
    "    # Your code goes here\n",
    "    if inputQueue.qsize() <= 1 :\n",
    "        return\n",
    "\n",
    "    front = inputQueue.get()\n",
    "\n",
    "    reverseQueue(inputQueue);\n",
    "\n",
    "    inputQueue.put(front)\n",
    "\n",
    "def takeInput():\n",
    "    n = int(stdin.readline().strip())\n",
    "\n",
    "    qu = queue.Queue()\n",
    "    values = list(map(int, stdin.readline().strip().split()))\n",
    "\n",
    "    for i in range(n) :\n",
    "        qu.put(values[i])\n",
    "\n",
    "    return qu\n",
    "\n",
    "\n",
    "#main\n",
    "t = int(stdin.readline().strip())\n",
    "\n",
    "while t > 0 :\n",
    "    \n",
    "    qu = takeInput()\n",
    "    reverseQueue(qu)\n",
    "    \n",
    "    while not qu.empty() :\n",
    "        print(qu.get(), end = \" \")\n",
    "        \n",
    "    print()\n",
    "    \n",
    "    t -= 1"
   ]
  }
 ],
 "metadata": {
  "kernelspec": {
   "display_name": "Python 3 (ipykernel)",
   "language": "python",
   "name": "python3"
  },
  "language_info": {
   "codemirror_mode": {
    "name": "ipython",
    "version": 3
   },
   "file_extension": ".py",
   "mimetype": "text/x-python",
   "name": "python",
   "nbconvert_exporter": "python",
   "pygments_lexer": "ipython3",
   "version": "3.10.7"
  }
 },
 "nbformat": 4,
 "nbformat_minor": 5
}
